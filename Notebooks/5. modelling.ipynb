{
 "cells": [
  {
   "cell_type": "markdown",
   "source": [
    "# Machine Learning Modelling"
   ],
   "metadata": {}
  },
  {
   "cell_type": "markdown",
   "source": [
    "On this notebook, the definition of the Machine Learning model to be use don this work is made. For this, a couple models are tested against data, and the one with the best performance is selected, and improved by a fine-tuning process."
   ],
   "metadata": {}
  },
  {
   "cell_type": "markdown",
   "source": [
    "## 1. Packages"
   ],
   "metadata": {}
  },
  {
   "cell_type": "code",
   "execution_count": 12,
   "source": [
    "import numpy as np \r\n",
    "import pandas as pd \r\n",
    "import matplotlib.pyplot as plt \r\n",
    "import seaborn as sns \r\n",
    "sns.set_style('darkgrid')\r\n",
    "\r\n",
    "import datetime\r\n",
    "import random\r\n",
    "from sklearn.ensemble import RandomForestRegressor\r\n",
    "from sklearn.metrics import mean_absolute_error, mean_squared_error, mean_absolute_percentage_error\r\n",
    "from sklearn.linear_model import LinearRegression,Lasso\r\n",
    "import xgboost as xgb\r\n",
    "import pickle"
   ],
   "outputs": [],
   "metadata": {}
  },
  {
   "cell_type": "markdown",
   "source": [
    "## 2. Support Functions"
   ],
   "metadata": {}
  },
  {
   "cell_type": "markdown",
   "source": [
    "On this section, some functions that going to be used througout this notebook are defined. They essentially involve a functin for calculating errors, and another function to do a proper Cross-Validation for the temporal data."
   ],
   "metadata": {}
  },
  {
   "cell_type": "code",
   "execution_count": 13,
   "source": [
    "def ml_error(model_name,y,y_hat):\r\n",
    "    mae = mean_absolute_error(y,y_hat)\r\n",
    "    mape = mean_absolute_percentage_error(y,y_hat)\r\n",
    "    rmse = np.sqrt(mean_squared_error(y,y_hat))\r\n",
    "\r\n",
    "    return pd.DataFrame({'Model Name' : model_name,\r\n",
    "                         'MAE' : mae,\r\n",
    "                         'MAPE' : mape,\r\n",
    "                         'RMSE': rmse},index=[0])"
   ],
   "outputs": [],
   "metadata": {}
  },
  {
   "cell_type": "code",
   "execution_count": 14,
   "source": [
    "def cross_validation(X_train, kfold, model_name, model, verbose=False):\r\n",
    "    mae_list = []\r\n",
    "    mape_list = []\r\n",
    "    rmse_list = []\r\n",
    "\r\n",
    "    for k in reversed(range(1,kfold)):\r\n",
    "\r\n",
    "        if verbose:\r\n",
    "            print(\"\\nKFold Number: {}\".format(k))\r\n",
    "\r\n",
    "        validation_start_date = X_train['date'].max() - datetime.timedelta(days=k*6*7)\r\n",
    "        validation_end_date = X_train['date'].max() -  datetime.timedelta(days=(k-1)*6*7)\r\n",
    "\r\n",
    "        training_set = X_train[X_train['date'] < validation_start_date]\r\n",
    "        validation_set = X_train[(X_train['date'] >= validation_start_date) & (X_train['date'] <= validation_end_date)]\r\n",
    "\r\n",
    "        X_training = training_set.drop(['date','sales'],axis=1)\r\n",
    "        y_training = training_set['sales']\r\n",
    "        \r\n",
    "        X_validation = validation_set.drop(['date','sales'],axis=1)\r\n",
    "        y_validation = validation_set['sales']\r\n",
    "\r\n",
    "        m = model.fit(X_training,y_training)\r\n",
    "        yhat = m.predict(X_validation)\r\n",
    "\r\n",
    "        m_result = ml_error (model_name, np.expm1(y_validation),np.expm1(yhat))\r\n",
    "\r\n",
    "        mae_list.append(m_result['MAE'])\r\n",
    "        mape_list.append(m_result['MAPE'])\r\n",
    "        rmse_list.append(m_result['RMSE'])\r\n",
    "\r\n",
    "    return pd.DataFrame({\r\n",
    "        'Model Name' : model_name,\r\n",
    "        'MAE' : np.round(np.mean(mae_list),2).astype(str) + ' +/- ' + np.round(np.std(mae_list),2).astype(str),\r\n",
    "        'MAPE' : np.round(np.mean(mape_list),2).astype(str) + ' +/- ' + np.round(np.std(mape_list),2).astype(str),\r\n",
    "        'RMSE' : np.round(np.mean(rmse_list),2).astype(str) + ' +/- ' + np.round(np.std(rmse_list),2).astype(str),\r\n",
    "    }, index=[0])"
   ],
   "outputs": [],
   "metadata": {}
  },
  {
   "cell_type": "code",
   "execution_count": 15,
   "source": [
    "def train_val_split(X_train,y_train):\r\n",
    "\r\n",
    "    validation_start_date = X_train['date'].max() - datetime.timedelta(days=k*6*7)\r\n",
    "    validation_end_date = X_train['date'].max() -  datetime.timedelta(days=(k-1)*6*7)\r\n",
    "\r\n",
    "    training_set = X_train[X_train['date'] < validation_start_date]\r\n",
    "    validation_set = X_train[(X_train['date'] >= validation_start_date) & (X_train['date'] <= validation_end_date)]\r\n",
    "\r\n",
    "    X_training = training_set.drop(['date','sales'],axis=1)\r\n",
    "    y_training = training_set['sales']\r\n",
    "    \r\n",
    "    X_validation = validation_set.drop(['date','sales'],axis=1)\r\n",
    "    y_validation = validation_set['sales']\r\n",
    "\r\n",
    "    return X_training, y_training, X_validation, y_validation"
   ],
   "outputs": [],
   "metadata": {}
  },
  {
   "cell_type": "markdown",
   "source": [
    "## 3. Data Reading"
   ],
   "metadata": {}
  },
  {
   "cell_type": "code",
   "execution_count": 16,
   "source": [
    "train_data = pd.read_pickle('../Data/prepared_train_data.pkl')\r\n",
    "test_data = pd.read_pickle('../Data/prepared_test_data.pkl')"
   ],
   "outputs": [],
   "metadata": {}
  },
  {
   "cell_type": "code",
   "execution_count": 17,
   "source": [
    "X_train = train_data.drop(['date','sales'],axis=1)\r\n",
    "y_train = train_data['sales']\r\n",
    "\r\n",
    "X_test = test_data.drop(['sales','date'],axis=1)\r\n",
    "y_test = test_data['sales']"
   ],
   "outputs": [],
   "metadata": {}
  },
  {
   "cell_type": "markdown",
   "source": [
    "## 4. Model Selection"
   ],
   "metadata": {}
  },
  {
   "cell_type": "markdown",
   "source": [
    "On this section, a couple of models are applied to data and their performance is measured by a Cross Validation process. At the end, all the models are compared and one is selected for further tuning. "
   ],
   "metadata": {}
  },
  {
   "cell_type": "markdown",
   "source": [
    "### 4.1 Mean Model (Baseline)"
   ],
   "metadata": {}
  },
  {
   "cell_type": "markdown",
   "source": [
    "This first model just consist of using the mean sales as predictions, and will be used as a Baseline Model."
   ],
   "metadata": {}
  },
  {
   "cell_type": "code",
   "execution_count": 18,
   "source": [
    "mean_df = X_test.copy()\r\n",
    "mean_df['sales'] = y_test.copy()\r\n",
    "\r\n",
    "preds = mean_df[['store','sales']].groupby('store').mean().reset_index().rename(columns={'sales':'predictions'})\r\n",
    "mean_df = pd.merge(mean_df,preds,how='left',on='store')\r\n",
    "yhat_baseline = mean_df['predictions']"
   ],
   "outputs": [],
   "metadata": {}
  },
  {
   "cell_type": "code",
   "execution_count": 19,
   "source": [
    "baseline_result = ml_error('Average Model',np.expm1(y_test),np.expm1(yhat_baseline))\r\n",
    "baseline_result['RMSE'] = np.round(baseline_result['RMSE'],2).astype(str)\r\n",
    "baseline_result['MAPE'] = np.round(baseline_result['MAPE'],2).astype(str)\r\n",
    "baseline_result['MAE'] = np.round(baseline_result['MAE'],2).astype(str)\r\n",
    "baseline_result"
   ],
   "outputs": [
    {
     "output_type": "execute_result",
     "data": {
      "text/plain": [
       "      Model Name     MAE  MAPE     RMSE\n",
       "0  Average Model  1354.8  0.21  1835.14"
      ],
      "text/html": [
       "<div>\n",
       "<style scoped>\n",
       "    .dataframe tbody tr th:only-of-type {\n",
       "        vertical-align: middle;\n",
       "    }\n",
       "\n",
       "    .dataframe tbody tr th {\n",
       "        vertical-align: top;\n",
       "    }\n",
       "\n",
       "    .dataframe thead th {\n",
       "        text-align: right;\n",
       "    }\n",
       "</style>\n",
       "<table border=\"1\" class=\"dataframe\">\n",
       "  <thead>\n",
       "    <tr style=\"text-align: right;\">\n",
       "      <th></th>\n",
       "      <th>Model Name</th>\n",
       "      <th>MAE</th>\n",
       "      <th>MAPE</th>\n",
       "      <th>RMSE</th>\n",
       "    </tr>\n",
       "  </thead>\n",
       "  <tbody>\n",
       "    <tr>\n",
       "      <th>0</th>\n",
       "      <td>Average Model</td>\n",
       "      <td>1354.8</td>\n",
       "      <td>0.21</td>\n",
       "      <td>1835.14</td>\n",
       "    </tr>\n",
       "  </tbody>\n",
       "</table>\n",
       "</div>"
      ]
     },
     "metadata": {},
     "execution_count": 19
    }
   ],
   "metadata": {}
  },
  {
   "cell_type": "markdown",
   "source": [
    "### 4.2 Linear Regression"
   ],
   "metadata": {}
  },
  {
   "cell_type": "code",
   "execution_count": 20,
   "source": [
    "lr = LinearRegression()\r\n",
    "lr_result_cv = cross_validation(train_data,5,'Linear Regression',lr)\r\n",
    "lr_result_cv"
   ],
   "outputs": [
    {
     "output_type": "execute_result",
     "data": {
      "text/plain": [
       "          Model Name                MAE          MAPE                RMSE\n",
       "0  Linear Regression  1940.46 +/- 97.24  0.3 +/- 0.02  2735.18 +/- 194.98"
      ],
      "text/html": [
       "<div>\n",
       "<style scoped>\n",
       "    .dataframe tbody tr th:only-of-type {\n",
       "        vertical-align: middle;\n",
       "    }\n",
       "\n",
       "    .dataframe tbody tr th {\n",
       "        vertical-align: top;\n",
       "    }\n",
       "\n",
       "    .dataframe thead th {\n",
       "        text-align: right;\n",
       "    }\n",
       "</style>\n",
       "<table border=\"1\" class=\"dataframe\">\n",
       "  <thead>\n",
       "    <tr style=\"text-align: right;\">\n",
       "      <th></th>\n",
       "      <th>Model Name</th>\n",
       "      <th>MAE</th>\n",
       "      <th>MAPE</th>\n",
       "      <th>RMSE</th>\n",
       "    </tr>\n",
       "  </thead>\n",
       "  <tbody>\n",
       "    <tr>\n",
       "      <th>0</th>\n",
       "      <td>Linear Regression</td>\n",
       "      <td>1940.46 +/- 97.24</td>\n",
       "      <td>0.3 +/- 0.02</td>\n",
       "      <td>2735.18 +/- 194.98</td>\n",
       "    </tr>\n",
       "  </tbody>\n",
       "</table>\n",
       "</div>"
      ]
     },
     "metadata": {},
     "execution_count": 20
    }
   ],
   "metadata": {}
  },
  {
   "cell_type": "markdown",
   "source": [
    "### 4.3 Linear Regression Regularized"
   ],
   "metadata": {}
  },
  {
   "cell_type": "code",
   "execution_count": 21,
   "source": [
    "lrr = Lasso(alpha=0.01)\r\n",
    "lrr_result_cv = cross_validation(train_data,5,'Linear Regression Regularized CV',lrr)\r\n",
    "lrr_result_cv"
   ],
   "outputs": [
    {
     "output_type": "execute_result",
     "data": {
      "text/plain": [
       "                         Model Name                 MAE          MAPE                RMSE\n",
       "0  Linear Regression Regularized CV  1957.62 +/- 140.52  0.29 +/- 0.0  2828.15 +/- 232.95"
      ],
      "text/html": [
       "<div>\n",
       "<style scoped>\n",
       "    .dataframe tbody tr th:only-of-type {\n",
       "        vertical-align: middle;\n",
       "    }\n",
       "\n",
       "    .dataframe tbody tr th {\n",
       "        vertical-align: top;\n",
       "    }\n",
       "\n",
       "    .dataframe thead th {\n",
       "        text-align: right;\n",
       "    }\n",
       "</style>\n",
       "<table border=\"1\" class=\"dataframe\">\n",
       "  <thead>\n",
       "    <tr style=\"text-align: right;\">\n",
       "      <th></th>\n",
       "      <th>Model Name</th>\n",
       "      <th>MAE</th>\n",
       "      <th>MAPE</th>\n",
       "      <th>RMSE</th>\n",
       "    </tr>\n",
       "  </thead>\n",
       "  <tbody>\n",
       "    <tr>\n",
       "      <th>0</th>\n",
       "      <td>Linear Regression Regularized CV</td>\n",
       "      <td>1957.62 +/- 140.52</td>\n",
       "      <td>0.29 +/- 0.0</td>\n",
       "      <td>2828.15 +/- 232.95</td>\n",
       "    </tr>\n",
       "  </tbody>\n",
       "</table>\n",
       "</div>"
      ]
     },
     "metadata": {},
     "execution_count": 21
    }
   ],
   "metadata": {}
  },
  {
   "cell_type": "markdown",
   "source": [
    "### 4.4 Random Forests"
   ],
   "metadata": {}
  },
  {
   "cell_type": "code",
   "execution_count": 22,
   "source": [
    "rf = RandomForestRegressor(n_estimators=100, n_jobs=-1, random_state=42)\r\n",
    "rf_result_cv = cross_validation(train_data,5,'Random Forest CV',rf)\r\n",
    "rf_result_cv"
   ],
   "outputs": [
    {
     "output_type": "execute_result",
     "data": {
      "text/plain": [
       "         Model Name              MAE           MAPE                RMSE\n",
       "0  Random Forest CV  746.1 +/- 132.8  0.11 +/- 0.02  1125.15 +/- 203.01"
      ],
      "text/html": [
       "<div>\n",
       "<style scoped>\n",
       "    .dataframe tbody tr th:only-of-type {\n",
       "        vertical-align: middle;\n",
       "    }\n",
       "\n",
       "    .dataframe tbody tr th {\n",
       "        vertical-align: top;\n",
       "    }\n",
       "\n",
       "    .dataframe thead th {\n",
       "        text-align: right;\n",
       "    }\n",
       "</style>\n",
       "<table border=\"1\" class=\"dataframe\">\n",
       "  <thead>\n",
       "    <tr style=\"text-align: right;\">\n",
       "      <th></th>\n",
       "      <th>Model Name</th>\n",
       "      <th>MAE</th>\n",
       "      <th>MAPE</th>\n",
       "      <th>RMSE</th>\n",
       "    </tr>\n",
       "  </thead>\n",
       "  <tbody>\n",
       "    <tr>\n",
       "      <th>0</th>\n",
       "      <td>Random Forest CV</td>\n",
       "      <td>746.1 +/- 132.8</td>\n",
       "      <td>0.11 +/- 0.02</td>\n",
       "      <td>1125.15 +/- 203.01</td>\n",
       "    </tr>\n",
       "  </tbody>\n",
       "</table>\n",
       "</div>"
      ]
     },
     "metadata": {},
     "execution_count": 22
    }
   ],
   "metadata": {}
  },
  {
   "cell_type": "markdown",
   "source": [
    "### 4.5 XGBoost"
   ],
   "metadata": {}
  },
  {
   "cell_type": "markdown",
   "source": [
    "On this XGBoost model, the number of estimators receives a slight tuning to a better adaptation to the actual problem."
   ],
   "metadata": {}
  },
  {
   "cell_type": "code",
   "execution_count": 23,
   "source": [
    "model_xgb = xgb.XGBRegressor(\r\n",
    "    objective='reg:squarederror',\r\n",
    "    n_estimators=1000,\r\n",
    "    eta=0.01,\r\n",
    "    max_depth=10,\r\n",
    "    subsample=0.7,\r\n",
    "    colsample_bytree=0.9,\r\n",
    "    tree_method='gpu_hist'\r\n",
    ")\r\n",
    "\r\n",
    "xgb_result_cv = cross_validation(train_data,5,'XGBoost CV',model_xgb,verbose=True)\r\n",
    "xgb_result_cv"
   ],
   "outputs": [
    {
     "output_type": "stream",
     "name": "stdout",
     "text": [
      "\n",
      "KFold Number: 4\n",
      "\n",
      "KFold Number: 3\n",
      "\n",
      "KFold Number: 2\n",
      "\n",
      "KFold Number: 1\n"
     ]
    },
    {
     "output_type": "execute_result",
     "data": {
      "text/plain": [
       "   Model Name               MAE           MAPE               RMSE\n",
       "0  XGBoost CV  942.58 +/- 96.25  0.13 +/- 0.01  1372.8 +/- 151.42"
      ],
      "text/html": [
       "<div>\n",
       "<style scoped>\n",
       "    .dataframe tbody tr th:only-of-type {\n",
       "        vertical-align: middle;\n",
       "    }\n",
       "\n",
       "    .dataframe tbody tr th {\n",
       "        vertical-align: top;\n",
       "    }\n",
       "\n",
       "    .dataframe thead th {\n",
       "        text-align: right;\n",
       "    }\n",
       "</style>\n",
       "<table border=\"1\" class=\"dataframe\">\n",
       "  <thead>\n",
       "    <tr style=\"text-align: right;\">\n",
       "      <th></th>\n",
       "      <th>Model Name</th>\n",
       "      <th>MAE</th>\n",
       "      <th>MAPE</th>\n",
       "      <th>RMSE</th>\n",
       "    </tr>\n",
       "  </thead>\n",
       "  <tbody>\n",
       "    <tr>\n",
       "      <th>0</th>\n",
       "      <td>XGBoost CV</td>\n",
       "      <td>942.58 +/- 96.25</td>\n",
       "      <td>0.13 +/- 0.01</td>\n",
       "      <td>1372.8 +/- 151.42</td>\n",
       "    </tr>\n",
       "  </tbody>\n",
       "</table>\n",
       "</div>"
      ]
     },
     "metadata": {},
     "execution_count": 23
    }
   ],
   "metadata": {}
  },
  {
   "cell_type": "markdown",
   "source": [
    "### 4.6 Performance Comparison"
   ],
   "metadata": {}
  },
  {
   "cell_type": "markdown",
   "source": [
    "Finnaly, all models performances are compared below."
   ],
   "metadata": {}
  },
  {
   "cell_type": "code",
   "execution_count": 24,
   "source": [
    "modelling_result_cv = pd.concat([baseline_result,lr_result_cv,lrr_result_cv,rf_result_cv,xgb_result_cv])\r\n",
    "modelling_result_cv.sort_values('RMSE')"
   ],
   "outputs": [
    {
     "output_type": "execute_result",
     "data": {
      "text/plain": [
       "                         Model Name                 MAE           MAPE                RMSE\n",
       "0                  Random Forest CV     746.1 +/- 132.8  0.11 +/- 0.02  1125.15 +/- 203.01\n",
       "0                        XGBoost CV    942.58 +/- 96.25  0.13 +/- 0.01   1372.8 +/- 151.42\n",
       "0                     Average Model              1354.8           0.21             1835.14\n",
       "0                 Linear Regression   1940.46 +/- 97.24   0.3 +/- 0.02  2735.18 +/- 194.98\n",
       "0  Linear Regression Regularized CV  1957.62 +/- 140.52   0.29 +/- 0.0  2828.15 +/- 232.95"
      ],
      "text/html": [
       "<div>\n",
       "<style scoped>\n",
       "    .dataframe tbody tr th:only-of-type {\n",
       "        vertical-align: middle;\n",
       "    }\n",
       "\n",
       "    .dataframe tbody tr th {\n",
       "        vertical-align: top;\n",
       "    }\n",
       "\n",
       "    .dataframe thead th {\n",
       "        text-align: right;\n",
       "    }\n",
       "</style>\n",
       "<table border=\"1\" class=\"dataframe\">\n",
       "  <thead>\n",
       "    <tr style=\"text-align: right;\">\n",
       "      <th></th>\n",
       "      <th>Model Name</th>\n",
       "      <th>MAE</th>\n",
       "      <th>MAPE</th>\n",
       "      <th>RMSE</th>\n",
       "    </tr>\n",
       "  </thead>\n",
       "  <tbody>\n",
       "    <tr>\n",
       "      <th>0</th>\n",
       "      <td>Random Forest CV</td>\n",
       "      <td>746.1 +/- 132.8</td>\n",
       "      <td>0.11 +/- 0.02</td>\n",
       "      <td>1125.15 +/- 203.01</td>\n",
       "    </tr>\n",
       "    <tr>\n",
       "      <th>0</th>\n",
       "      <td>XGBoost CV</td>\n",
       "      <td>942.58 +/- 96.25</td>\n",
       "      <td>0.13 +/- 0.01</td>\n",
       "      <td>1372.8 +/- 151.42</td>\n",
       "    </tr>\n",
       "    <tr>\n",
       "      <th>0</th>\n",
       "      <td>Average Model</td>\n",
       "      <td>1354.8</td>\n",
       "      <td>0.21</td>\n",
       "      <td>1835.14</td>\n",
       "    </tr>\n",
       "    <tr>\n",
       "      <th>0</th>\n",
       "      <td>Linear Regression</td>\n",
       "      <td>1940.46 +/- 97.24</td>\n",
       "      <td>0.3 +/- 0.02</td>\n",
       "      <td>2735.18 +/- 194.98</td>\n",
       "    </tr>\n",
       "    <tr>\n",
       "      <th>0</th>\n",
       "      <td>Linear Regression Regularized CV</td>\n",
       "      <td>1957.62 +/- 140.52</td>\n",
       "      <td>0.29 +/- 0.0</td>\n",
       "      <td>2828.15 +/- 232.95</td>\n",
       "    </tr>\n",
       "  </tbody>\n",
       "</table>\n",
       "</div>"
      ]
     },
     "metadata": {},
     "execution_count": 24
    }
   ],
   "metadata": {}
  },
  {
   "cell_type": "markdown",
   "source": [
    "Looking at the results, Random Forest seems to be the best model in terms of performance. However, outside of that, this model is not so efficient, especially in terms of size of memory. Since we're on a limited resource enviroment, for this work XGBoost will be selected as the machine learning, giving up some model performance for a better deployment of the model."
   ],
   "metadata": {}
  },
  {
   "cell_type": "markdown",
   "source": [
    "## 5. Hyperparameter Fine Tuning"
   ],
   "metadata": {}
  },
  {
   "cell_type": "markdown",
   "source": [
    "On this section, the selected model is submitted to a Fine Tuning of it's hyperparameters. Despite having a variety of techniques available for this process, on this work a simple search was made with trial and error and it was found that the only parameter that improved the model was the number of estimators. So, on the code below, some different values of this parameter are put to test. "
   ],
   "metadata": {}
  },
  {
   "cell_type": "code",
   "execution_count": 25,
   "source": [
    "param = {\r\n",
    "    'n_estimators' : [1500,1700,2500,3000,3500],\r\n",
    "    'eta' : [0.01,0.03],\r\n",
    "    'max_depth' : [3,5,9],\r\n",
    "    'subsample' : [0.1,0.5,0.7],\r\n",
    "    'colsample_bytree' : [0.3,0.7,0.9],\r\n",
    "    'min_child_weight' : [3,8,15]\r\n",
    "}\r\n",
    "\r\n",
    "MAX_EVAL = 15"
   ],
   "outputs": [],
   "metadata": {}
  },
  {
   "cell_type": "code",
   "execution_count": 29,
   "source": [
    "final_result = pd.DataFrame()\r\n",
    "\r\n",
    "for size in range(MAX_EVAL):\r\n",
    "\r\n",
    "    hp = {k : random.sample(v,1)[0] for k,v in param.items()}\r\n",
    "    print(hp)\r\n",
    "\r\n",
    "    # model\r\n",
    "    model_xgb = xgb.XGBRegressor(\r\n",
    "        objective='reg:squarederror',\r\n",
    "        n_estimators=hp['n_estimators'],\r\n",
    "        eta=hp['eta'],\r\n",
    "        max_depth=hp['max_depth'],\r\n",
    "        subsample=hp['subsample'],\r\n",
    "        colsample_bytree=hp['colsample_bytree'],\r\n",
    "        min_child_weight=hp['min_child_weight'],\r\n",
    "        tree_method = 'gpu_hist'\r\n",
    "    )\r\n",
    "\r\n",
    "    result = cross_validation(train_data,5,'XGBoost Regressor',model_xgb)\r\n",
    "    final_result = pd.concat([final_result, result])\r\n",
    "final_result"
   ],
   "outputs": [
    {
     "output_type": "stream",
     "name": "stdout",
     "text": [
      "{'n_estimators': 1700, 'eta': 0.01, 'max_depth': 9, 'subsample': 0.1, 'colsample_bytree': 0.9, 'min_child_weight': 15}\n",
      "{'n_estimators': 3500, 'eta': 0.03, 'max_depth': 3, 'subsample': 0.5, 'colsample_bytree': 0.9, 'min_child_weight': 15}\n",
      "{'n_estimators': 3500, 'eta': 0.01, 'max_depth': 5, 'subsample': 0.5, 'colsample_bytree': 0.7, 'min_child_weight': 3}\n",
      "{'n_estimators': 3000, 'eta': 0.03, 'max_depth': 5, 'subsample': 0.5, 'colsample_bytree': 0.3, 'min_child_weight': 15}\n",
      "{'n_estimators': 3000, 'eta': 0.03, 'max_depth': 3, 'subsample': 0.7, 'colsample_bytree': 0.9, 'min_child_weight': 3}\n",
      "{'n_estimators': 1700, 'eta': 0.01, 'max_depth': 5, 'subsample': 0.5, 'colsample_bytree': 0.7, 'min_child_weight': 8}\n",
      "{'n_estimators': 3500, 'eta': 0.03, 'max_depth': 3, 'subsample': 0.7, 'colsample_bytree': 0.9, 'min_child_weight': 3}\n",
      "{'n_estimators': 3500, 'eta': 0.01, 'max_depth': 3, 'subsample': 0.1, 'colsample_bytree': 0.9, 'min_child_weight': 15}\n",
      "{'n_estimators': 1700, 'eta': 0.03, 'max_depth': 5, 'subsample': 0.7, 'colsample_bytree': 0.9, 'min_child_weight': 15}\n",
      "{'n_estimators': 3000, 'eta': 0.03, 'max_depth': 9, 'subsample': 0.1, 'colsample_bytree': 0.9, 'min_child_weight': 3}\n",
      "{'n_estimators': 1700, 'eta': 0.01, 'max_depth': 9, 'subsample': 0.1, 'colsample_bytree': 0.7, 'min_child_weight': 8}\n",
      "{'n_estimators': 3500, 'eta': 0.01, 'max_depth': 9, 'subsample': 0.7, 'colsample_bytree': 0.7, 'min_child_weight': 8}\n",
      "{'n_estimators': 1500, 'eta': 0.03, 'max_depth': 3, 'subsample': 0.7, 'colsample_bytree': 0.9, 'min_child_weight': 15}\n",
      "{'n_estimators': 1500, 'eta': 0.03, 'max_depth': 3, 'subsample': 0.5, 'colsample_bytree': 0.3, 'min_child_weight': 15}\n",
      "{'n_estimators': 1700, 'eta': 0.03, 'max_depth': 3, 'subsample': 0.5, 'colsample_bytree': 0.7, 'min_child_weight': 3}\n"
     ]
    },
    {
     "output_type": "execute_result",
     "data": {
      "text/plain": [
       "          Model Name                 MAE           MAPE                RMSE\n",
       "0  XGBoost Regressor    860.27 +/- 94.08  0.12 +/- 0.01  1249.07 +/- 147.88\n",
       "0  XGBoost Regressor   1248.89 +/- 85.64  0.18 +/- 0.01  1808.79 +/- 128.85\n",
       "0  XGBoost Regressor   1116.03 +/- 84.53  0.16 +/- 0.01  1628.43 +/- 128.77\n",
       "0  XGBoost Regressor  1015.37 +/- 100.97  0.14 +/- 0.01  1462.83 +/- 153.27\n",
       "0  XGBoost Regressor   1299.34 +/- 88.02  0.18 +/- 0.01   1884.2 +/- 131.31\n",
       "0  XGBoost Regressor   1381.97 +/- 90.77    0.2 +/- 0.0   2018.22 +/- 146.1\n",
       "0  XGBoost Regressor   1255.94 +/- 89.77  0.18 +/- 0.01  1816.18 +/- 133.69\n",
       "0  XGBoost Regressor   1524.61 +/- 94.57   0.22 +/- 0.0   2215.55 +/- 143.9\n",
       "0  XGBoost Regressor   1004.63 +/- 98.28  0.14 +/- 0.01  1455.72 +/- 145.64\n",
       "0  XGBoost Regressor    785.76 +/- 94.34  0.11 +/- 0.01  1136.11 +/- 149.75\n",
       "0  XGBoost Regressor     873.92 +/- 94.1  0.12 +/- 0.01  1271.76 +/- 150.14\n",
       "0  XGBoost Regressor   768.71 +/- 103.92  0.11 +/- 0.01  1115.27 +/- 159.29\n",
       "0  XGBoost Regressor   1482.59 +/- 94.17   0.21 +/- 0.0   2156.7 +/- 144.64\n",
       "0  XGBoost Regressor   1572.39 +/- 95.02  0.22 +/- 0.01  2280.34 +/- 140.24\n",
       "0  XGBoost Regressor    1457.06 +/- 88.5  0.21 +/- 0.01   2120.52 +/- 134.4"
      ],
      "text/html": [
       "<div>\n",
       "<style scoped>\n",
       "    .dataframe tbody tr th:only-of-type {\n",
       "        vertical-align: middle;\n",
       "    }\n",
       "\n",
       "    .dataframe tbody tr th {\n",
       "        vertical-align: top;\n",
       "    }\n",
       "\n",
       "    .dataframe thead th {\n",
       "        text-align: right;\n",
       "    }\n",
       "</style>\n",
       "<table border=\"1\" class=\"dataframe\">\n",
       "  <thead>\n",
       "    <tr style=\"text-align: right;\">\n",
       "      <th></th>\n",
       "      <th>Model Name</th>\n",
       "      <th>MAE</th>\n",
       "      <th>MAPE</th>\n",
       "      <th>RMSE</th>\n",
       "    </tr>\n",
       "  </thead>\n",
       "  <tbody>\n",
       "    <tr>\n",
       "      <th>0</th>\n",
       "      <td>XGBoost Regressor</td>\n",
       "      <td>860.27 +/- 94.08</td>\n",
       "      <td>0.12 +/- 0.01</td>\n",
       "      <td>1249.07 +/- 147.88</td>\n",
       "    </tr>\n",
       "    <tr>\n",
       "      <th>0</th>\n",
       "      <td>XGBoost Regressor</td>\n",
       "      <td>1248.89 +/- 85.64</td>\n",
       "      <td>0.18 +/- 0.01</td>\n",
       "      <td>1808.79 +/- 128.85</td>\n",
       "    </tr>\n",
       "    <tr>\n",
       "      <th>0</th>\n",
       "      <td>XGBoost Regressor</td>\n",
       "      <td>1116.03 +/- 84.53</td>\n",
       "      <td>0.16 +/- 0.01</td>\n",
       "      <td>1628.43 +/- 128.77</td>\n",
       "    </tr>\n",
       "    <tr>\n",
       "      <th>0</th>\n",
       "      <td>XGBoost Regressor</td>\n",
       "      <td>1015.37 +/- 100.97</td>\n",
       "      <td>0.14 +/- 0.01</td>\n",
       "      <td>1462.83 +/- 153.27</td>\n",
       "    </tr>\n",
       "    <tr>\n",
       "      <th>0</th>\n",
       "      <td>XGBoost Regressor</td>\n",
       "      <td>1299.34 +/- 88.02</td>\n",
       "      <td>0.18 +/- 0.01</td>\n",
       "      <td>1884.2 +/- 131.31</td>\n",
       "    </tr>\n",
       "    <tr>\n",
       "      <th>0</th>\n",
       "      <td>XGBoost Regressor</td>\n",
       "      <td>1381.97 +/- 90.77</td>\n",
       "      <td>0.2 +/- 0.0</td>\n",
       "      <td>2018.22 +/- 146.1</td>\n",
       "    </tr>\n",
       "    <tr>\n",
       "      <th>0</th>\n",
       "      <td>XGBoost Regressor</td>\n",
       "      <td>1255.94 +/- 89.77</td>\n",
       "      <td>0.18 +/- 0.01</td>\n",
       "      <td>1816.18 +/- 133.69</td>\n",
       "    </tr>\n",
       "    <tr>\n",
       "      <th>0</th>\n",
       "      <td>XGBoost Regressor</td>\n",
       "      <td>1524.61 +/- 94.57</td>\n",
       "      <td>0.22 +/- 0.0</td>\n",
       "      <td>2215.55 +/- 143.9</td>\n",
       "    </tr>\n",
       "    <tr>\n",
       "      <th>0</th>\n",
       "      <td>XGBoost Regressor</td>\n",
       "      <td>1004.63 +/- 98.28</td>\n",
       "      <td>0.14 +/- 0.01</td>\n",
       "      <td>1455.72 +/- 145.64</td>\n",
       "    </tr>\n",
       "    <tr>\n",
       "      <th>0</th>\n",
       "      <td>XGBoost Regressor</td>\n",
       "      <td>785.76 +/- 94.34</td>\n",
       "      <td>0.11 +/- 0.01</td>\n",
       "      <td>1136.11 +/- 149.75</td>\n",
       "    </tr>\n",
       "    <tr>\n",
       "      <th>0</th>\n",
       "      <td>XGBoost Regressor</td>\n",
       "      <td>873.92 +/- 94.1</td>\n",
       "      <td>0.12 +/- 0.01</td>\n",
       "      <td>1271.76 +/- 150.14</td>\n",
       "    </tr>\n",
       "    <tr>\n",
       "      <th>0</th>\n",
       "      <td>XGBoost Regressor</td>\n",
       "      <td>768.71 +/- 103.92</td>\n",
       "      <td>0.11 +/- 0.01</td>\n",
       "      <td>1115.27 +/- 159.29</td>\n",
       "    </tr>\n",
       "    <tr>\n",
       "      <th>0</th>\n",
       "      <td>XGBoost Regressor</td>\n",
       "      <td>1482.59 +/- 94.17</td>\n",
       "      <td>0.21 +/- 0.0</td>\n",
       "      <td>2156.7 +/- 144.64</td>\n",
       "    </tr>\n",
       "    <tr>\n",
       "      <th>0</th>\n",
       "      <td>XGBoost Regressor</td>\n",
       "      <td>1572.39 +/- 95.02</td>\n",
       "      <td>0.22 +/- 0.01</td>\n",
       "      <td>2280.34 +/- 140.24</td>\n",
       "    </tr>\n",
       "    <tr>\n",
       "      <th>0</th>\n",
       "      <td>XGBoost Regressor</td>\n",
       "      <td>1457.06 +/- 88.5</td>\n",
       "      <td>0.21 +/- 0.01</td>\n",
       "      <td>2120.52 +/- 134.4</td>\n",
       "    </tr>\n",
       "  </tbody>\n",
       "</table>\n",
       "</div>"
      ]
     },
     "metadata": {},
     "execution_count": 29
    }
   ],
   "metadata": {}
  },
  {
   "cell_type": "markdown",
   "source": [
    "### 5.1 Final Model"
   ],
   "metadata": {}
  },
  {
   "cell_type": "markdown",
   "source": [
    "On this final subsection, the tuned model is applied to test data, generating it's predictions and obtaining a final performance estimation."
   ],
   "metadata": {}
  },
  {
   "cell_type": "code",
   "execution_count": 30,
   "source": [
    "param_tuned = {\r\n",
    "    'n_estimators': 1700,\r\n",
    "    'eta': 0.01,\r\n",
    "    'max_depth': 9,\r\n",
    "    'subsample': 0.1,\r\n",
    "    'colsample_bytree': 0.9,\r\n",
    "    'min_child_weight': 15\r\n",
    "}"
   ],
   "outputs": [],
   "metadata": {}
  },
  {
   "cell_type": "code",
   "execution_count": 31,
   "source": [
    "model_xgb_tuned = xgb.XGBRegressor(\r\n",
    "    objective='reg:squarederror',\r\n",
    "    n_estimators=param_tuned['n_estimators'],\r\n",
    "    eta=param_tuned['eta'],\r\n",
    "    max_depth=param_tuned['max_depth'],\r\n",
    "    subsample=param_tuned['subsample'],\r\n",
    "    colsample_bytree=param_tuned['colsample_bytree'],\r\n",
    "    min_child_weight=param_tuned['min_child_weight'],\r\n",
    "    tree_method = 'gpu_hist').fit(X_train, y_train)\r\n",
    "\r\n",
    "yhat_xgb_tuned = model_xgb_tuned.predict(X_test)\r\n",
    "\r\n",
    "xgb_result_tuned = ml_error('XGBoost Regressor Tuned', np.expm1(y_test), np.expm1(yhat_xgb_tuned))\r\n",
    "xgb_result_tuned"
   ],
   "outputs": [
    {
     "output_type": "execute_result",
     "data": {
      "text/plain": [
       "                Model Name         MAE      MAPE         RMSE\n",
       "0  XGBoost Regressor Tuned  752.151404  0.111819  1095.760419"
      ],
      "text/html": [
       "<div>\n",
       "<style scoped>\n",
       "    .dataframe tbody tr th:only-of-type {\n",
       "        vertical-align: middle;\n",
       "    }\n",
       "\n",
       "    .dataframe tbody tr th {\n",
       "        vertical-align: top;\n",
       "    }\n",
       "\n",
       "    .dataframe thead th {\n",
       "        text-align: right;\n",
       "    }\n",
       "</style>\n",
       "<table border=\"1\" class=\"dataframe\">\n",
       "  <thead>\n",
       "    <tr style=\"text-align: right;\">\n",
       "      <th></th>\n",
       "      <th>Model Name</th>\n",
       "      <th>MAE</th>\n",
       "      <th>MAPE</th>\n",
       "      <th>RMSE</th>\n",
       "    </tr>\n",
       "  </thead>\n",
       "  <tbody>\n",
       "    <tr>\n",
       "      <th>0</th>\n",
       "      <td>XGBoost Regressor Tuned</td>\n",
       "      <td>752.151404</td>\n",
       "      <td>0.111819</td>\n",
       "      <td>1095.760419</td>\n",
       "    </tr>\n",
       "  </tbody>\n",
       "</table>\n",
       "</div>"
      ]
     },
     "metadata": {},
     "execution_count": 31
    }
   ],
   "metadata": {}
  },
  {
   "cell_type": "markdown",
   "source": [
    "## 6. Model and Predictions Exporting"
   ],
   "metadata": {}
  },
  {
   "cell_type": "markdown",
   "source": [
    "Finally, the model and his predictions are exported for further use."
   ],
   "metadata": {}
  },
  {
   "cell_type": "code",
   "execution_count": 34,
   "source": [
    "pickle.dump(model_xgb_tuned, open('../Model/model_rossmann.pkl','wb'))"
   ],
   "outputs": [],
   "metadata": {}
  },
  {
   "cell_type": "code",
   "execution_count": 35,
   "source": [
    "model_predictions = pd.DataFrame(yhat_xgb_tuned,columns=['Predictions'])\r\n",
    "model_predictions.head()"
   ],
   "outputs": [
    {
     "output_type": "execute_result",
     "data": {
      "text/plain": [
       "   Predictions\n",
       "0     8.697638\n",
       "1     8.774541\n",
       "2     9.136545\n",
       "3     9.355741\n",
       "4     8.769717"
      ],
      "text/html": [
       "<div>\n",
       "<style scoped>\n",
       "    .dataframe tbody tr th:only-of-type {\n",
       "        vertical-align: middle;\n",
       "    }\n",
       "\n",
       "    .dataframe tbody tr th {\n",
       "        vertical-align: top;\n",
       "    }\n",
       "\n",
       "    .dataframe thead th {\n",
       "        text-align: right;\n",
       "    }\n",
       "</style>\n",
       "<table border=\"1\" class=\"dataframe\">\n",
       "  <thead>\n",
       "    <tr style=\"text-align: right;\">\n",
       "      <th></th>\n",
       "      <th>Predictions</th>\n",
       "    </tr>\n",
       "  </thead>\n",
       "  <tbody>\n",
       "    <tr>\n",
       "      <th>0</th>\n",
       "      <td>8.697638</td>\n",
       "    </tr>\n",
       "    <tr>\n",
       "      <th>1</th>\n",
       "      <td>8.774541</td>\n",
       "    </tr>\n",
       "    <tr>\n",
       "      <th>2</th>\n",
       "      <td>9.136545</td>\n",
       "    </tr>\n",
       "    <tr>\n",
       "      <th>3</th>\n",
       "      <td>9.355741</td>\n",
       "    </tr>\n",
       "    <tr>\n",
       "      <th>4</th>\n",
       "      <td>8.769717</td>\n",
       "    </tr>\n",
       "  </tbody>\n",
       "</table>\n",
       "</div>"
      ]
     },
     "metadata": {},
     "execution_count": 35
    }
   ],
   "metadata": {}
  },
  {
   "cell_type": "code",
   "execution_count": 37,
   "source": [
    "model_predictions.to_pickle('../Data/model_predictions.pkl')"
   ],
   "outputs": [],
   "metadata": {}
  },
  {
   "cell_type": "code",
   "execution_count": null,
   "source": [],
   "outputs": [],
   "metadata": {}
  }
 ],
 "metadata": {
  "orig_nbformat": 4,
  "language_info": {
   "name": "python",
   "version": "3.7.10",
   "mimetype": "text/x-python",
   "codemirror_mode": {
    "name": "ipython",
    "version": 3
   },
   "pygments_lexer": "ipython3",
   "nbconvert_exporter": "python",
   "file_extension": ".py"
  },
  "kernelspec": {
   "name": "python3",
   "display_name": "Python 3.7.10 64-bit ('base': conda)"
  },
  "interpreter": {
   "hash": "5746bf01dc69d79ed75f1429e8d3401c2cc7f715a0fe7adde7192d0e6ad4e891"
  }
 },
 "nbformat": 4,
 "nbformat_minor": 2
}