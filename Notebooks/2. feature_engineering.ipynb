{
 "cells": [
  {
   "cell_type": "markdown",
   "source": [
    "# Feature Engineering"
   ],
   "metadata": {}
  },
  {
   "cell_type": "markdown",
   "source": [
    "## 1. Packages"
   ],
   "metadata": {}
  },
  {
   "cell_type": "code",
   "execution_count": 1,
   "source": [
    "import numpy as np \r\n",
    "import pandas as pd \r\n",
    "import inflection\r\n",
    "import math\r\n",
    "import datetime\r\n",
    "import matplotlib.pyplot as plt \r\n",
    "import seaborn as sns\r\n",
    "\r\n",
    "sns.set_style('darkgrid')"
   ],
   "outputs": [],
   "metadata": {
    "ExecuteTime": {
     "end_time": "2021-06-30T20:32:18.938281Z",
     "start_time": "2021-06-30T20:32:18.929307Z"
    }
   }
  },
  {
   "cell_type": "markdown",
   "source": [
    "## 2. Data Reading"
   ],
   "metadata": {}
  },
  {
   "cell_type": "code",
   "execution_count": 2,
   "source": [
    "data = pd.read_pickle('../Data/data_clean.pkl')"
   ],
   "outputs": [],
   "metadata": {
    "ExecuteTime": {
     "end_time": "2021-06-30T20:32:19.252540Z",
     "start_time": "2021-06-30T20:32:18.940248Z"
    }
   }
  },
  {
   "cell_type": "markdown",
   "source": [
    "## 3. Hypothesis Creation"
   ],
   "metadata": {}
  },
  {
   "cell_type": "markdown",
   "source": [
    "### 3.1 Store Hyphotesis"
   ],
   "metadata": {}
  },
  {
   "cell_type": "markdown",
   "source": [
    "**1.** Stores with more employees should sell more.\r\n",
    "\r\n",
    "**2.** Stores with more stock capacity should sell more.\r\n",
    "\r\n",
    "**3.** Stores with bigger sizes should sell more.\r\n",
    "\r\n",
    "**4.** Stores with more assortments shoud sell more.\r\n",
    "\r\n",
    "**5.** Stores with closer competitors shoud sell less.\r\n",
    "\r\n",
    "**6.** Stores with older competitors should sell more."
   ],
   "metadata": {}
  },
  {
   "cell_type": "markdown",
   "source": [
    "### 2. Product Hyphotesis"
   ],
   "metadata": {}
  },
  {
   "cell_type": "markdown",
   "source": [
    "**1.** Stores which invest more on Marketing should sell more.\r\n",
    "\r\n",
    "**2.** Stores with more product exposure should sell more. \r\n",
    "\r\n",
    "**3.** Stores with lower prices should sell more.\r\n",
    "\r\n",
    "**4.** Stores with more aggresive promotions should sell more.\r\n",
    "\r\n",
    "**5.** Stores with longer active promotions should sell more.\r\n",
    "\r\n",
    "**6.** Stores with more promotion days should sell more.\r\n",
    "\r\n",
    "**7.** Stores with more consecutive promotions should sell more."
   ],
   "metadata": {}
  },
  {
   "cell_type": "markdown",
   "source": [
    "### 3. Time Hyphotesis (Seasonality)"
   ],
   "metadata": {}
  },
  {
   "cell_type": "markdown",
   "source": [
    "**1.** Stores open during Christmas should sell more.\r\n",
    "\r\n",
    "**2.** Stores should sell more along the years.\r\n",
    "\r\n",
    "**3.** Stores should sell more during the second semester of the year.\r\n",
    "\r\n",
    "**4.** Stores should sell more after day 10 of each month.\r\n",
    "\r\n",
    "**5.** Stores shoud sell less on weekends.\r\n",
    "\r\n",
    "**6.** Stores should sell less during School Holidays."
   ],
   "metadata": {}
  },
  {
   "cell_type": "markdown",
   "source": [
    "## 4. Final List of Hyphotesis"
   ],
   "metadata": {}
  },
  {
   "cell_type": "markdown",
   "source": [
    "Here, a final list of Hyphotesis is selected based on the availability of data needed to confirm each one."
   ],
   "metadata": {}
  },
  {
   "cell_type": "markdown",
   "source": [
    "**1.** Stores with more assortments shoud sell more.\r\n",
    "\r\n",
    "**2.** Stores with closer competitors shoud sell less.\r\n",
    "\r\n",
    "**3.** Stores with older competitors should sell more.\r\n",
    "\r\n",
    "**4.** Stores with longer active promotions should sell more.\r\n",
    "\r\n",
    "**5.** Stores with more consecutive promotions should sell more.\r\n",
    "\r\n",
    "**6.** Stores open during Christmas should sell more.\r\n",
    "\r\n",
    "**7.** Stores should sell more along the years.\r\n",
    "\r\n",
    "**8.** Stores should sell more during the second semester of the year.\r\n",
    "\r\n",
    "**9.** Stores should sell more after day 10 of each month.\r\n",
    "\r\n",
    "**10.** Stores shoud sell less on weekends.\r\n",
    "\r\n",
    "**11.** Stores should sell less during School Holidays."
   ],
   "metadata": {}
  },
  {
   "cell_type": "markdown",
   "source": [
    "## 5. Feature Engineering"
   ],
   "metadata": {}
  },
  {
   "cell_type": "markdown",
   "source": [
    "On this section, the Feature Enginnering process is implemented, creating new features to help study the created hyphotesis and improve model performance."
   ],
   "metadata": {}
  },
  {
   "cell_type": "markdown",
   "source": [
    "First, some basic features of data are derived from original data column."
   ],
   "metadata": {}
  },
  {
   "cell_type": "code",
   "execution_count": 5,
   "source": [
    "data['year'] = data['date'].dt.year\r\n",
    "data['month'] = data['date'].dt.month\r\n",
    "data['day'] = data['date'].dt.day\r\n",
    "data['week_of_year'] = data['date'].dt.isocalendar().week\r\n",
    "data['year_week'] = data['date'].dt.strftime('%Y-%W')"
   ],
   "outputs": [],
   "metadata": {
    "ExecuteTime": {
     "end_time": "2021-06-30T20:32:26.031506Z",
     "start_time": "2021-06-30T20:32:19.255531Z"
    }
   }
  },
  {
   "cell_type": "markdown",
   "source": [
    "Here a \"Competition Since\" column is derived aggregating the month and year original columns. Also, a column calculating the Time of Competition in months is proposed."
   ],
   "metadata": {}
  },
  {
   "cell_type": "code",
   "execution_count": 6,
   "source": [
    "data['competition_since'] = data.apply(lambda x: datetime.datetime(day=1, month=x['competition_open_since_month'], year=x['competition_open_since_year']),axis=1)\r\n",
    "data['competition_time_month'] = ((data['date'] - data['competition_since'])/30).apply(lambda x: x.days).astype('int64')"
   ],
   "outputs": [],
   "metadata": {
    "ExecuteTime": {
     "end_time": "2021-06-30T20:32:49.358279Z",
     "start_time": "2021-06-30T20:32:26.033415Z"
    }
   }
  },
  {
   "cell_type": "markdown",
   "source": [
    "A similar process is implemented for the \"Promo Since...\" columns, where a aggregated column and a calculated column with promotion time in weeks are proposed."
   ],
   "metadata": {}
  },
  {
   "cell_type": "code",
   "execution_count": 7,
   "source": [
    "data['promo_since'] = data['promo2_since_year'].astype( str ) + '-' + data['promo2_since_week'].astype( str )\r\n",
    "data['promo_since'] = data['promo_since'].apply( lambda x: datetime.datetime.strptime( x + '-1', '%Y-%W-%w' ) - datetime.timedelta( days=7 ) )\r\n",
    "data['promo_time_week'] = ( ( data['date'] - data['promo_since'] ) / 7 ).apply( lambda x: x.days ).astype( int )"
   ],
   "outputs": [],
   "metadata": {
    "ExecuteTime": {
     "end_time": "2021-06-30T20:33:08.936073Z",
     "start_time": "2021-06-30T20:32:49.360188Z"
    }
   }
  },
  {
   "cell_type": "markdown",
   "source": [
    "For Assortment and State Holiday columns, the encoded values are substituted with literal names, according to the data documentation."
   ],
   "metadata": {}
  },
  {
   "cell_type": "code",
   "execution_count": 8,
   "source": [
    "data['assortment'] = data['assortment'].apply(lambda x: 'basic' if x == 'a' else 'extra' if x == 'b' else 'extended')"
   ],
   "outputs": [],
   "metadata": {
    "ExecuteTime": {
     "end_time": "2021-06-30T20:33:09.092838Z",
     "start_time": "2021-06-30T20:33:08.936980Z"
    }
   }
  },
  {
   "cell_type": "code",
   "execution_count": 9,
   "source": [
    "data['state_holiday'] = data['state_holiday'].apply(lambda x: 'public_holiday' if x == 'a' else 'easter_holiday' if x == 'b' else 'christmas' if x =='c' else 'regular_day')"
   ],
   "outputs": [],
   "metadata": {
    "ExecuteTime": {
     "end_time": "2021-06-30T20:33:09.311429Z",
     "start_time": "2021-06-30T20:33:09.094837Z"
    }
   }
  },
  {
   "cell_type": "markdown",
   "source": [
    "A summary of the resulting data is presented above."
   ],
   "metadata": {}
  },
  {
   "cell_type": "code",
   "execution_count": 10,
   "source": [
    "data.head().T"
   ],
   "outputs": [
    {
     "output_type": "execute_result",
     "data": {
      "text/plain": [
       "                                                0                    1                    2                    3                    4\n",
       "store                                           1                    2                    3                    4                    5\n",
       "day_of_week                                     5                    5                    5                    5                    5\n",
       "date                          2015-07-31 00:00:00  2015-07-31 00:00:00  2015-07-31 00:00:00  2015-07-31 00:00:00  2015-07-31 00:00:00\n",
       "sales                                        5263                 6064                 8314                13995                 4822\n",
       "customers                                     555                  625                  821                 1498                  559\n",
       "open                                            1                    1                    1                    1                    1\n",
       "promo                                           1                    1                    1                    1                    1\n",
       "state_holiday                         regular_day          regular_day          regular_day          regular_day          regular_day\n",
       "school_holiday                                  1                    1                    1                    1                    1\n",
       "store_type                                      c                    a                    a                    c                    a\n",
       "assortment                                  basic                basic                basic             extended                basic\n",
       "competition_distance                       1270.0                570.0              14130.0                620.0              29910.0\n",
       "competition_open_since_month                    9                   11                   12                    9                    4\n",
       "competition_open_since_year                  2008                 2007                 2006                 2009                 2015\n",
       "promo2                                          0                    1                    1                    0                    0\n",
       "promo2_since_week                              31                   13                   14                   31                   31\n",
       "promo2_since_year                            2015                 2010                 2011                 2015                 2015\n",
       "promo_interval                                  0      Jan,Apr,Jul,Oct      Jan,Apr,Jul,Oct                    0                    0\n",
       "month_map                                     Jul                  Jul                  Jul                  Jul                  Jul\n",
       "is_promo                                        0                    1                    1                    0                    0\n",
       "year                                         2015                 2015                 2015                 2015                 2015\n",
       "month                                           7                    7                    7                    7                    7\n",
       "day                                            31                   31                   31                   31                   31\n",
       "week_of_year                                   31                   31                   31                   31                   31\n",
       "year_week                                 2015-30              2015-30              2015-30              2015-30              2015-30\n",
       "competition_since             2008-09-01 00:00:00  2007-11-01 00:00:00  2006-12-01 00:00:00  2009-09-01 00:00:00  2015-04-01 00:00:00\n",
       "competition_time_month                         84                   94                  105                   71                    4\n",
       "promo_since                   2015-07-27 00:00:00  2010-03-22 00:00:00  2011-03-28 00:00:00  2015-07-27 00:00:00  2015-07-27 00:00:00\n",
       "promo_time_week                                 0                  279                  226                    0                    0"
      ],
      "text/html": [
       "<div>\n",
       "<style scoped>\n",
       "    .dataframe tbody tr th:only-of-type {\n",
       "        vertical-align: middle;\n",
       "    }\n",
       "\n",
       "    .dataframe tbody tr th {\n",
       "        vertical-align: top;\n",
       "    }\n",
       "\n",
       "    .dataframe thead th {\n",
       "        text-align: right;\n",
       "    }\n",
       "</style>\n",
       "<table border=\"1\" class=\"dataframe\">\n",
       "  <thead>\n",
       "    <tr style=\"text-align: right;\">\n",
       "      <th></th>\n",
       "      <th>0</th>\n",
       "      <th>1</th>\n",
       "      <th>2</th>\n",
       "      <th>3</th>\n",
       "      <th>4</th>\n",
       "    </tr>\n",
       "  </thead>\n",
       "  <tbody>\n",
       "    <tr>\n",
       "      <th>store</th>\n",
       "      <td>1</td>\n",
       "      <td>2</td>\n",
       "      <td>3</td>\n",
       "      <td>4</td>\n",
       "      <td>5</td>\n",
       "    </tr>\n",
       "    <tr>\n",
       "      <th>day_of_week</th>\n",
       "      <td>5</td>\n",
       "      <td>5</td>\n",
       "      <td>5</td>\n",
       "      <td>5</td>\n",
       "      <td>5</td>\n",
       "    </tr>\n",
       "    <tr>\n",
       "      <th>date</th>\n",
       "      <td>2015-07-31 00:00:00</td>\n",
       "      <td>2015-07-31 00:00:00</td>\n",
       "      <td>2015-07-31 00:00:00</td>\n",
       "      <td>2015-07-31 00:00:00</td>\n",
       "      <td>2015-07-31 00:00:00</td>\n",
       "    </tr>\n",
       "    <tr>\n",
       "      <th>sales</th>\n",
       "      <td>5263</td>\n",
       "      <td>6064</td>\n",
       "      <td>8314</td>\n",
       "      <td>13995</td>\n",
       "      <td>4822</td>\n",
       "    </tr>\n",
       "    <tr>\n",
       "      <th>customers</th>\n",
       "      <td>555</td>\n",
       "      <td>625</td>\n",
       "      <td>821</td>\n",
       "      <td>1498</td>\n",
       "      <td>559</td>\n",
       "    </tr>\n",
       "    <tr>\n",
       "      <th>open</th>\n",
       "      <td>1</td>\n",
       "      <td>1</td>\n",
       "      <td>1</td>\n",
       "      <td>1</td>\n",
       "      <td>1</td>\n",
       "    </tr>\n",
       "    <tr>\n",
       "      <th>promo</th>\n",
       "      <td>1</td>\n",
       "      <td>1</td>\n",
       "      <td>1</td>\n",
       "      <td>1</td>\n",
       "      <td>1</td>\n",
       "    </tr>\n",
       "    <tr>\n",
       "      <th>state_holiday</th>\n",
       "      <td>regular_day</td>\n",
       "      <td>regular_day</td>\n",
       "      <td>regular_day</td>\n",
       "      <td>regular_day</td>\n",
       "      <td>regular_day</td>\n",
       "    </tr>\n",
       "    <tr>\n",
       "      <th>school_holiday</th>\n",
       "      <td>1</td>\n",
       "      <td>1</td>\n",
       "      <td>1</td>\n",
       "      <td>1</td>\n",
       "      <td>1</td>\n",
       "    </tr>\n",
       "    <tr>\n",
       "      <th>store_type</th>\n",
       "      <td>c</td>\n",
       "      <td>a</td>\n",
       "      <td>a</td>\n",
       "      <td>c</td>\n",
       "      <td>a</td>\n",
       "    </tr>\n",
       "    <tr>\n",
       "      <th>assortment</th>\n",
       "      <td>basic</td>\n",
       "      <td>basic</td>\n",
       "      <td>basic</td>\n",
       "      <td>extended</td>\n",
       "      <td>basic</td>\n",
       "    </tr>\n",
       "    <tr>\n",
       "      <th>competition_distance</th>\n",
       "      <td>1270.0</td>\n",
       "      <td>570.0</td>\n",
       "      <td>14130.0</td>\n",
       "      <td>620.0</td>\n",
       "      <td>29910.0</td>\n",
       "    </tr>\n",
       "    <tr>\n",
       "      <th>competition_open_since_month</th>\n",
       "      <td>9</td>\n",
       "      <td>11</td>\n",
       "      <td>12</td>\n",
       "      <td>9</td>\n",
       "      <td>4</td>\n",
       "    </tr>\n",
       "    <tr>\n",
       "      <th>competition_open_since_year</th>\n",
       "      <td>2008</td>\n",
       "      <td>2007</td>\n",
       "      <td>2006</td>\n",
       "      <td>2009</td>\n",
       "      <td>2015</td>\n",
       "    </tr>\n",
       "    <tr>\n",
       "      <th>promo2</th>\n",
       "      <td>0</td>\n",
       "      <td>1</td>\n",
       "      <td>1</td>\n",
       "      <td>0</td>\n",
       "      <td>0</td>\n",
       "    </tr>\n",
       "    <tr>\n",
       "      <th>promo2_since_week</th>\n",
       "      <td>31</td>\n",
       "      <td>13</td>\n",
       "      <td>14</td>\n",
       "      <td>31</td>\n",
       "      <td>31</td>\n",
       "    </tr>\n",
       "    <tr>\n",
       "      <th>promo2_since_year</th>\n",
       "      <td>2015</td>\n",
       "      <td>2010</td>\n",
       "      <td>2011</td>\n",
       "      <td>2015</td>\n",
       "      <td>2015</td>\n",
       "    </tr>\n",
       "    <tr>\n",
       "      <th>promo_interval</th>\n",
       "      <td>0</td>\n",
       "      <td>Jan,Apr,Jul,Oct</td>\n",
       "      <td>Jan,Apr,Jul,Oct</td>\n",
       "      <td>0</td>\n",
       "      <td>0</td>\n",
       "    </tr>\n",
       "    <tr>\n",
       "      <th>month_map</th>\n",
       "      <td>Jul</td>\n",
       "      <td>Jul</td>\n",
       "      <td>Jul</td>\n",
       "      <td>Jul</td>\n",
       "      <td>Jul</td>\n",
       "    </tr>\n",
       "    <tr>\n",
       "      <th>is_promo</th>\n",
       "      <td>0</td>\n",
       "      <td>1</td>\n",
       "      <td>1</td>\n",
       "      <td>0</td>\n",
       "      <td>0</td>\n",
       "    </tr>\n",
       "    <tr>\n",
       "      <th>year</th>\n",
       "      <td>2015</td>\n",
       "      <td>2015</td>\n",
       "      <td>2015</td>\n",
       "      <td>2015</td>\n",
       "      <td>2015</td>\n",
       "    </tr>\n",
       "    <tr>\n",
       "      <th>month</th>\n",
       "      <td>7</td>\n",
       "      <td>7</td>\n",
       "      <td>7</td>\n",
       "      <td>7</td>\n",
       "      <td>7</td>\n",
       "    </tr>\n",
       "    <tr>\n",
       "      <th>day</th>\n",
       "      <td>31</td>\n",
       "      <td>31</td>\n",
       "      <td>31</td>\n",
       "      <td>31</td>\n",
       "      <td>31</td>\n",
       "    </tr>\n",
       "    <tr>\n",
       "      <th>week_of_year</th>\n",
       "      <td>31</td>\n",
       "      <td>31</td>\n",
       "      <td>31</td>\n",
       "      <td>31</td>\n",
       "      <td>31</td>\n",
       "    </tr>\n",
       "    <tr>\n",
       "      <th>year_week</th>\n",
       "      <td>2015-30</td>\n",
       "      <td>2015-30</td>\n",
       "      <td>2015-30</td>\n",
       "      <td>2015-30</td>\n",
       "      <td>2015-30</td>\n",
       "    </tr>\n",
       "    <tr>\n",
       "      <th>competition_since</th>\n",
       "      <td>2008-09-01 00:00:00</td>\n",
       "      <td>2007-11-01 00:00:00</td>\n",
       "      <td>2006-12-01 00:00:00</td>\n",
       "      <td>2009-09-01 00:00:00</td>\n",
       "      <td>2015-04-01 00:00:00</td>\n",
       "    </tr>\n",
       "    <tr>\n",
       "      <th>competition_time_month</th>\n",
       "      <td>84</td>\n",
       "      <td>94</td>\n",
       "      <td>105</td>\n",
       "      <td>71</td>\n",
       "      <td>4</td>\n",
       "    </tr>\n",
       "    <tr>\n",
       "      <th>promo_since</th>\n",
       "      <td>2015-07-27 00:00:00</td>\n",
       "      <td>2010-03-22 00:00:00</td>\n",
       "      <td>2011-03-28 00:00:00</td>\n",
       "      <td>2015-07-27 00:00:00</td>\n",
       "      <td>2015-07-27 00:00:00</td>\n",
       "    </tr>\n",
       "    <tr>\n",
       "      <th>promo_time_week</th>\n",
       "      <td>0</td>\n",
       "      <td>279</td>\n",
       "      <td>226</td>\n",
       "      <td>0</td>\n",
       "      <td>0</td>\n",
       "    </tr>\n",
       "  </tbody>\n",
       "</table>\n",
       "</div>"
      ]
     },
     "metadata": {},
     "execution_count": 10
    }
   ],
   "metadata": {
    "ExecuteTime": {
     "end_time": "2021-06-30T20:33:09.343173Z",
     "start_time": "2021-06-30T20:33:09.313253Z"
    }
   }
  },
  {
   "cell_type": "markdown",
   "source": [
    "## 6. Data Filtering"
   ],
   "metadata": {}
  },
  {
   "cell_type": "markdown",
   "source": [
    "On this section, some initial filtering of the data, both in terms of rows and columns, is proposed based on initial knowledge of the data."
   ],
   "metadata": {}
  },
  {
   "cell_type": "markdown",
   "source": [
    "### 6.1. Row Filtering"
   ],
   "metadata": {}
  },
  {
   "cell_type": "markdown",
   "source": [
    "For Row Filtering, samples refered to close stores or no sales are removed from the dataset."
   ],
   "metadata": {}
  },
  {
   "cell_type": "code",
   "execution_count": 11,
   "source": [
    "data = data[(data['open'] != 0) & (data['sales'] > 0)]"
   ],
   "outputs": [],
   "metadata": {
    "ExecuteTime": {
     "end_time": "2021-06-30T20:33:09.609631Z",
     "start_time": "2021-06-30T20:33:09.345140Z"
    }
   }
  },
  {
   "cell_type": "markdown",
   "source": [
    "### 6.2. Column Filtering"
   ],
   "metadata": {}
  },
  {
   "cell_type": "markdown",
   "source": [
    "For column filtering, columns not available on prediction time, like \"Customers\" and columns already represented by the new crafted ones are removed."
   ],
   "metadata": {}
  },
  {
   "cell_type": "code",
   "execution_count": 12,
   "source": [
    "cols_drop = ['customers','open','promo_interval','month_map']\r\n",
    "data = data.drop(cols_drop,axis=1)"
   ],
   "outputs": [],
   "metadata": {
    "ExecuteTime": {
     "end_time": "2021-06-30T20:33:09.704351Z",
     "start_time": "2021-06-30T20:33:09.611428Z"
    }
   }
  },
  {
   "cell_type": "markdown",
   "source": [
    "## 7. Data Exporting"
   ],
   "metadata": {}
  },
  {
   "cell_type": "markdown",
   "source": [
    "Finally, the resulting data is exported as a pickle file to subsequent notebooks."
   ],
   "metadata": {}
  },
  {
   "cell_type": "code",
   "execution_count": 13,
   "source": [
    "data.to_pickle('../Data/data_engineered.pkl')"
   ],
   "outputs": [],
   "metadata": {
    "ExecuteTime": {
     "end_time": "2021-06-30T20:33:10.314872Z",
     "start_time": "2021-06-30T20:33:09.706260Z"
    }
   }
  }
 ],
 "metadata": {
  "interpreter": {
   "hash": "5746bf01dc69d79ed75f1429e8d3401c2cc7f715a0fe7adde7192d0e6ad4e891"
  },
  "kernelspec": {
   "display_name": "Python 3",
   "language": "python",
   "name": "python3"
  },
  "language_info": {
   "codemirror_mode": {
    "name": "ipython",
    "version": 3
   },
   "file_extension": ".py",
   "mimetype": "text/x-python",
   "name": "python",
   "nbconvert_exporter": "python",
   "pygments_lexer": "ipython3",
   "version": "3.7.10"
  }
 },
 "nbformat": 4,
 "nbformat_minor": 2
}